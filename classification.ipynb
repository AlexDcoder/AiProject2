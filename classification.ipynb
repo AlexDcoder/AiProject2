{
 "cells": [
  {
   "cell_type": "code",
   "execution_count": 4,
   "metadata": {},
   "outputs": [],
   "source": [
    "import numpy as np\n",
    "import pandas as pd\n",
    "from matplotlib import pyplot as plt"
   ]
  },
  {
   "cell_type": "code",
   "execution_count": null,
   "metadata": {},
   "outputs": [],
   "source": [
    "class Classification:\n",
    "    def __init__(self, data):\n",
    "        self.data = data\n",
    "        self.p, self.N = self.data.shape\n",
    "        self.X = self.data[0:self.p-1,:]\n",
    "        self.Y = self.data[self.p-1,:]\n",
    "        \n",
    "    def show_graph(self):\n",
    "        pass"
   ]
  },
  {
   "cell_type": "code",
   "execution_count": 18,
   "metadata": {},
   "outputs": [
    {
     "name": "stdout",
     "output_type": "stream",
     "text": [
      "(3, 50000)\n",
      "3\n",
      "50000\n",
      "[[   0.    0.  905. ...    0.    0.    0.]\n",
      " [   0.    0. 1430. ...    0. 3941. 3938.]]\n",
      "[1. 1. 4. ... 1. 2. 2.]\n"
     ]
    }
   ],
   "source": [
    "data = np.loadtxt('EMGsDataset.csv', delimiter=',')\n",
    "c = Classification(data)\n",
    "print(c.data.shape)\n",
    "print(c.p)\n",
    "print(c.N)\n",
    "print(c.X)\n",
    "print(c.Y)"
   ]
  }
 ],
 "metadata": {
  "kernelspec": {
   "display_name": "venv",
   "language": "python",
   "name": "python3"
  },
  "language_info": {
   "codemirror_mode": {
    "name": "ipython",
    "version": 3
   },
   "file_extension": ".py",
   "mimetype": "text/x-python",
   "name": "python",
   "nbconvert_exporter": "python",
   "pygments_lexer": "ipython3",
   "version": "3.12.3"
  }
 },
 "nbformat": 4,
 "nbformat_minor": 2
}
